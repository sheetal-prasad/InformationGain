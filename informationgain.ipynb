{
 "cells": [
  {
   "cell_type": "markdown",
   "metadata": {},
   "source": [
    "### Assignment 2 : Information Gain Calculation\n",
    "#### CS583 Data Mining Text Mining\n",
    "\n",
    "---\n",
    "\n",
    "Sumitted by Sheetal S Prasad (sprasa22@uic.edu)\n",
    "\n",
    "---\n",
    "\n",
    "The aim of the assignment is to implement the information gain for a given dataset.  \n",
    "Information gain is used to measure the impurity in a given dataset and it helps us select the good split while constructing decision trees. The assignment includes the implementation of the entropy function which is used by information gain.\n",
    "\n",
    "\n",
    "Reference: Web Data Mining, Chapter 3, Section 3.2, Pg no 73"
   ]
  },
  {
   "cell_type": "code",
   "execution_count": 1,
   "metadata": {
    "id": "Py4husEbdAnx"
   },
   "outputs": [],
   "source": [
    "import pandas as pd\n",
    "import math\n",
    "import io"
   ]
  },
  {
   "cell_type": "code",
   "execution_count": 2,
   "metadata": {
    "colab": {
     "base_uri": "https://localhost:8080/",
     "height": 52
    },
    "id": "RtmOPIhaeOoa",
    "outputId": "36adb143-27bd-45f9-a023-359d8ce18345"
   },
   "outputs": [
    {
     "name": "stdout",
     "output_type": "stream",
     "text": [
      "Enter the atrribute number you wish to calculate the information gain for\n"
     ]
    },
    {
     "name": "stdin",
     "output_type": "stream",
     "text": [
      " 1\n"
     ]
    }
   ],
   "source": [
    "# print('Enter the path of the input file:')\n",
    "# ip_path=input()\n",
    "print(\"Enter the atrribute number you wish to calculate the information gain for\")\n",
    "attr=input()\n",
    "attr=int(attr)-1"
   ]
  },
  {
   "cell_type": "code",
   "execution_count": 3,
   "metadata": {
    "id": "olgzdv0odWZ4"
   },
   "outputs": [],
   "source": [
    "def read_input():\n",
    "    # Function to read input text file and return a pandas dataframe\n",
    "    dataset=pd.read_csv('2-data-1.txt',header=None, encoding='utf8')\n",
    "    return pd.DataFrame(dataset)\n",
    "#     dataset=[]\n",
    "#     with open(path) as file:\n",
    "    \n",
    "#         for line in file:\n",
    "#             dataset.append(line.replace(\"\\n\",\"\").split(\",\"))\n",
    "#     return(pd.DataFrame(dataset))"
   ]
  },
  {
   "cell_type": "code",
   "execution_count": 4,
   "metadata": {
    "id": "LkgFxgtcdhhG"
   },
   "outputs": [],
   "source": [
    "def calc_entropy(df):\n",
    "    C=df.iloc[:,-1:]\n",
    "    len_df=df.shape[0]\n",
    "    c=C.squeeze('columns').value_counts()\n",
    "    entropy=0\n",
    "    for j in c:\n",
    "        prob_cj=j/len_df\n",
    "        entropy+=(prob_cj) *math.log2(prob_cj)\n",
    "    return -entropy"
   ]
  },
  {
   "cell_type": "code",
   "execution_count": 5,
   "metadata": {
    "id": "QWECLpebFxXe"
   },
   "outputs": [],
   "source": [
    "def aj_entropy(Aj):\n",
    "    entro_ai=0\n",
    "    for j in Aj:\n",
    "        Dj=(D[D[int(attr)]==j])\n",
    "        entro_ai+=((Dj.shape[0]/totallen)*calc_entropy(Dj))\n",
    "    return entro_ai"
   ]
  },
  {
   "cell_type": "code",
   "execution_count": 6,
   "metadata": {
    "colab": {
     "base_uri": "https://localhost:8080/",
     "height": 509
    },
    "id": "PeEYWZawdmY3",
    "outputId": "5b8b5841-621c-41d0-da98-68339916f19e"
   },
   "outputs": [
    {
     "data": {
      "text/html": [
       "<div>\n",
       "<style scoped>\n",
       "    .dataframe tbody tr th:only-of-type {\n",
       "        vertical-align: middle;\n",
       "    }\n",
       "\n",
       "    .dataframe tbody tr th {\n",
       "        vertical-align: top;\n",
       "    }\n",
       "\n",
       "    .dataframe thead th {\n",
       "        text-align: right;\n",
       "    }\n",
       "</style>\n",
       "<table border=\"1\" class=\"dataframe\">\n",
       "  <thead>\n",
       "    <tr style=\"text-align: right;\">\n",
       "      <th></th>\n",
       "      <th>0</th>\n",
       "      <th>1</th>\n",
       "      <th>2</th>\n",
       "      <th>3</th>\n",
       "      <th>4</th>\n",
       "      <th>5</th>\n",
       "    </tr>\n",
       "  </thead>\n",
       "  <tbody>\n",
       "    <tr>\n",
       "      <th>0</th>\n",
       "      <td>young</td>\n",
       "      <td>FALSE</td>\n",
       "      <td>FALSE</td>\n",
       "      <td>fair</td>\n",
       "      <td>x</td>\n",
       "      <td>No</td>\n",
       "    </tr>\n",
       "    <tr>\n",
       "      <th>1</th>\n",
       "      <td>young</td>\n",
       "      <td>FALSE</td>\n",
       "      <td>FALSE</td>\n",
       "      <td>good</td>\n",
       "      <td>x</td>\n",
       "      <td>Mix</td>\n",
       "    </tr>\n",
       "    <tr>\n",
       "      <th>2</th>\n",
       "      <td>young</td>\n",
       "      <td>TRUE</td>\n",
       "      <td>SURE</td>\n",
       "      <td>good</td>\n",
       "      <td>x</td>\n",
       "      <td>Yes</td>\n",
       "    </tr>\n",
       "    <tr>\n",
       "      <th>3</th>\n",
       "      <td>young</td>\n",
       "      <td>TRUE</td>\n",
       "      <td>TRUE</td>\n",
       "      <td>fair</td>\n",
       "      <td>y</td>\n",
       "      <td>Yes</td>\n",
       "    </tr>\n",
       "    <tr>\n",
       "      <th>4</th>\n",
       "      <td>young</td>\n",
       "      <td>Maybe</td>\n",
       "      <td>FALSE</td>\n",
       "      <td>fair</td>\n",
       "      <td>x</td>\n",
       "      <td>No</td>\n",
       "    </tr>\n",
       "    <tr>\n",
       "      <th>5</th>\n",
       "      <td>middle</td>\n",
       "      <td>FALSE</td>\n",
       "      <td>FALSE</td>\n",
       "      <td>fair</td>\n",
       "      <td>x</td>\n",
       "      <td>Mix</td>\n",
       "    </tr>\n",
       "    <tr>\n",
       "      <th>6</th>\n",
       "      <td>middle</td>\n",
       "      <td>FALSE</td>\n",
       "      <td>FALSE</td>\n",
       "      <td>good</td>\n",
       "      <td>y</td>\n",
       "      <td>No</td>\n",
       "    </tr>\n",
       "    <tr>\n",
       "      <th>7</th>\n",
       "      <td>middle</td>\n",
       "      <td>TRUE</td>\n",
       "      <td>TRUE</td>\n",
       "      <td>good</td>\n",
       "      <td>z</td>\n",
       "      <td>Yes</td>\n",
       "    </tr>\n",
       "    <tr>\n",
       "      <th>8</th>\n",
       "      <td>middle</td>\n",
       "      <td>FALSE</td>\n",
       "      <td>SURE</td>\n",
       "      <td>excellent</td>\n",
       "      <td>y</td>\n",
       "      <td>Yes</td>\n",
       "    </tr>\n",
       "    <tr>\n",
       "      <th>9</th>\n",
       "      <td>middle</td>\n",
       "      <td>FALSE</td>\n",
       "      <td>TRUE</td>\n",
       "      <td>excellent</td>\n",
       "      <td>y</td>\n",
       "      <td>Mix</td>\n",
       "    </tr>\n",
       "    <tr>\n",
       "      <th>10</th>\n",
       "      <td>old</td>\n",
       "      <td>Maybe</td>\n",
       "      <td>TRUE</td>\n",
       "      <td>excellent</td>\n",
       "      <td>y</td>\n",
       "      <td>Yes</td>\n",
       "    </tr>\n",
       "    <tr>\n",
       "      <th>11</th>\n",
       "      <td>old</td>\n",
       "      <td>FALSE</td>\n",
       "      <td>TRUE</td>\n",
       "      <td>good</td>\n",
       "      <td>x</td>\n",
       "      <td>Mix</td>\n",
       "    </tr>\n",
       "    <tr>\n",
       "      <th>12</th>\n",
       "      <td>old</td>\n",
       "      <td>TRUE</td>\n",
       "      <td>FALSE</td>\n",
       "      <td>good</td>\n",
       "      <td>z</td>\n",
       "      <td>Yes</td>\n",
       "    </tr>\n",
       "    <tr>\n",
       "      <th>13</th>\n",
       "      <td>old</td>\n",
       "      <td>TRUE</td>\n",
       "      <td>FALSE</td>\n",
       "      <td>excellent</td>\n",
       "      <td>x</td>\n",
       "      <td>Mix</td>\n",
       "    </tr>\n",
       "    <tr>\n",
       "      <th>14</th>\n",
       "      <td>old</td>\n",
       "      <td>Maybe</td>\n",
       "      <td>FALSE</td>\n",
       "      <td>fair</td>\n",
       "      <td>y</td>\n",
       "      <td>No</td>\n",
       "    </tr>\n",
       "    <tr>\n",
       "      <th>15</th>\n",
       "      <td>teenager</td>\n",
       "      <td>TRUE</td>\n",
       "      <td>TRUE</td>\n",
       "      <td>good</td>\n",
       "      <td>x</td>\n",
       "      <td>Mix</td>\n",
       "    </tr>\n",
       "    <tr>\n",
       "      <th>16</th>\n",
       "      <td>teenager</td>\n",
       "      <td>FALSE</td>\n",
       "      <td>SURE</td>\n",
       "      <td>good</td>\n",
       "      <td>y</td>\n",
       "      <td>No</td>\n",
       "    </tr>\n",
       "    <tr>\n",
       "      <th>17</th>\n",
       "      <td>teenager</td>\n",
       "      <td>TRUE</td>\n",
       "      <td>TRUE</td>\n",
       "      <td>excellent</td>\n",
       "      <td>z</td>\n",
       "      <td>Yes</td>\n",
       "    </tr>\n",
       "    <tr>\n",
       "      <th>18</th>\n",
       "      <td>teenager</td>\n",
       "      <td>Maybe</td>\n",
       "      <td>TRUE</td>\n",
       "      <td>excellent</td>\n",
       "      <td>x</td>\n",
       "      <td>Mix</td>\n",
       "    </tr>\n",
       "    <tr>\n",
       "      <th>19</th>\n",
       "      <td>teenager</td>\n",
       "      <td>TRUE</td>\n",
       "      <td>FALSE</td>\n",
       "      <td>excellent</td>\n",
       "      <td>z</td>\n",
       "      <td>Yes</td>\n",
       "    </tr>\n",
       "  </tbody>\n",
       "</table>\n",
       "</div>"
      ],
      "text/plain": [
       "           0      1      2          3  4    5\n",
       "0      young  FALSE  FALSE       fair  x   No\n",
       "1      young  FALSE  FALSE       good  x  Mix\n",
       "2      young   TRUE   SURE       good  x  Yes\n",
       "3      young   TRUE   TRUE       fair  y  Yes\n",
       "4      young  Maybe  FALSE       fair  x   No\n",
       "5     middle  FALSE  FALSE       fair  x  Mix\n",
       "6     middle  FALSE  FALSE       good  y   No\n",
       "7     middle   TRUE   TRUE       good  z  Yes\n",
       "8     middle  FALSE   SURE  excellent  y  Yes\n",
       "9     middle  FALSE   TRUE  excellent  y  Mix\n",
       "10       old  Maybe   TRUE  excellent  y  Yes\n",
       "11       old  FALSE   TRUE       good  x  Mix\n",
       "12       old   TRUE  FALSE       good  z  Yes\n",
       "13       old   TRUE  FALSE  excellent  x  Mix\n",
       "14       old  Maybe  FALSE       fair  y   No\n",
       "15  teenager   TRUE   TRUE       good  x  Mix\n",
       "16  teenager  FALSE   SURE       good  y   No\n",
       "17  teenager   TRUE   TRUE  excellent  z  Yes\n",
       "18  teenager  Maybe   TRUE  excellent  x  Mix\n",
       "19  teenager   TRUE  FALSE  excellent  z  Yes"
      ]
     },
     "execution_count": 6,
     "metadata": {},
     "output_type": "execute_result"
    }
   ],
   "source": [
    "D=read_input()\n",
    "D"
   ]
  },
  {
   "cell_type": "code",
   "execution_count": 7,
   "metadata": {
    "colab": {
     "base_uri": "https://localhost:8080/",
     "height": 35
    },
    "id": "ahbNpzBo0cRi",
    "outputId": "7b065031-ba35-4d04-f517-d95151e41d6f"
   },
   "outputs": [
    {
     "data": {
      "text/plain": [
       "20"
      ]
     },
     "execution_count": 7,
     "metadata": {},
     "output_type": "execute_result"
    }
   ],
   "source": [
    "totallen=D.shape[0]\n",
    "totallen"
   ]
  },
  {
   "cell_type": "code",
   "execution_count": 8,
   "metadata": {
    "colab": {
     "base_uri": "https://localhost:8080/",
     "height": 35
    },
    "id": "6BE8vyKMevAZ",
    "outputId": "98abb2c9-5991-4378-e971-203855b068f7"
   },
   "outputs": [
    {
     "data": {
      "text/plain": [
       "1.5588718484453603"
      ]
     },
     "execution_count": 8,
     "metadata": {},
     "output_type": "execute_result"
    }
   ],
   "source": [
    "entropy_D=calc_entropy(D)\n",
    "entropy_D"
   ]
  },
  {
   "cell_type": "code",
   "execution_count": 9,
   "metadata": {
    "colab": {
     "base_uri": "https://localhost:8080/",
     "height": 35
    },
    "id": "sUeVmxOk3QIf",
    "outputId": "c7a8d445-7562-419e-9364-b5e484a8773b"
   },
   "outputs": [
    {
     "data": {
      "text/plain": [
       "{'middle', 'old', 'teenager', 'young'}"
      ]
     },
     "execution_count": 9,
     "metadata": {},
     "output_type": "execute_result"
    }
   ],
   "source": [
    "Aj=set(D[int(attr)])\n",
    "Aj"
   ]
  },
  {
   "cell_type": "code",
   "execution_count": 10,
   "metadata": {
    "colab": {
     "base_uri": "https://localhost:8080/",
     "height": 35
    },
    "id": "KozKN8X86Oq3",
    "outputId": "ce84f8b5-2022-45db-f1ef-d40fe314808c"
   },
   "outputs": [
    {
     "name": "stdout",
     "output_type": "stream",
     "text": [
      "\n",
      " The information gain for attribute no 0 is 0.03694375355799817\n"
     ]
    }
   ],
   "source": [
    "gain= entropy_D-aj_entropy(Aj)\n",
    "print(\"\\n The information gain for attribute no \"+ str(attr)+\" is \"+str(gain))"
   ]
  },
  {
   "cell_type": "code",
   "execution_count": 11,
   "metadata": {},
   "outputs": [],
   "source": [
    "output = open(\"88_2.txt\", \"w\")\n",
    "output.write(\"(88 \\n(IG \"+ str(gain)+\" ) \\n )\")\n",
    "output.close()"
   ]
  }
 ],
 "metadata": {
  "colab": {
   "collapsed_sections": [],
   "name": "informationgain.ipynb",
   "provenance": []
  },
  "kernelspec": {
   "display_name": "Python 3",
   "language": "python",
   "name": "python3"
  },
  "language_info": {
   "codemirror_mode": {
    "name": "ipython",
    "version": 3
   },
   "file_extension": ".py",
   "mimetype": "text/x-python",
   "name": "python",
   "nbconvert_exporter": "python",
   "pygments_lexer": "ipython3",
   "version": "3.8.3"
  }
 },
 "nbformat": 4,
 "nbformat_minor": 4
}
